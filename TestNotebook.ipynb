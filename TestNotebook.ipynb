{
 "cells": [
  {
   "cell_type": "code",
   "execution_count": 17,
   "metadata": {
    "collapsed": false
   },
   "outputs": [
    {
     "name": "stdout",
     "output_type": "stream",
     "text": [
      "Created array of size: 7\n",
      "[3, 2, 4, 5, 10, 13, 1]\n",
      "Popped last element and appended 6\n",
      "[3, 2, 4, 5, 10, 13, 6]\n",
      "Index of 4: 2\n",
      "Removed 4: [3, 2, 5, 10, 13, 6]\n",
      "Removed 3rd entry from list: [3, 2, 10, 13, 6]\n",
      "Inserted 7 as 3rd entry in list: [3, 2, 7, 10, 13, 6]\n",
      "Reversed: [6, 13, 10, 7, 2, 3]\n",
      "Sorted return: [2, 3, 6, 7, 10, 13]\n",
      "Sorted in place: [2, 3, 6, 7, 10, 13]\n"
     ]
    }
   ],
   "source": [
    "def array_test():\n",
    "    ar = [3, 2, 4, 5, 10, 13, 1]\n",
    "    \n",
    "    print(\"Created array of size: \" + str(len(ar)))\n",
    "    print(ar)\n",
    "    \n",
    "    ar.pop()\n",
    "    ar.append(6)\n",
    "    print(\"Popped last element and appended 6\")\n",
    "    print(ar)\n",
    "    print(\"Index of 4: \" + str(ar.index(4))) # index of given value\n",
    "    \n",
    "    ar.remove(4) # remove the first occurence of item with given value\n",
    "    print(\"Removed 4: \" + str(ar))\n",
    "    \n",
    "    del ar[2] # remove the 3rd item from the list\n",
    "    print(\"Removed 3rd entry from list: \" + str(ar))\n",
    "    \n",
    "    ar.insert(2, 7)\n",
    "    print(\"Inserted 7 as 3rd entry in list: \" + str(ar))\n",
    "    \n",
    "    ar.reverse()\n",
    "    print(\"Reversed: \" + str(ar))\n",
    "    print(\"Sorted return: \" + str(sorted(ar)))\n",
    "    \n",
    "    ar.sort()\n",
    "    print(\"Sorted in place: \" + str(ar))\n",
    "\n",
    "def main():\n",
    "    array_test()\n",
    "    \n",
    "if __name__ == \"__main__\":\n",
    "    main()"
   ]
  }
 ],
 "metadata": {
  "kernelspec": {
   "display_name": "Python 2",
   "language": "python",
   "name": "python2"
  },
  "language_info": {
   "codemirror_mode": {
    "name": "ipython",
    "version": 2
   },
   "file_extension": ".py",
   "mimetype": "text/x-python",
   "name": "python",
   "nbconvert_exporter": "python",
   "pygments_lexer": "ipython2",
   "version": "2.7.13"
  }
 },
 "nbformat": 4,
 "nbformat_minor": 2
}
